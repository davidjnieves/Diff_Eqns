{
 "cells": [
  {
   "cell_type": "markdown",
   "id": "5a35da4d-4e0b-48d2-9441-85380f3c30d0",
   "metadata": {},
   "source": [
    "# The Bisection Method \n",
    "\n",
    "Write/complete the python program below to perform the Bisection Method. Use it for the following problems.\n",
    "\n",
    "1. Find an approximation to within $10^{-5}$ to a value in $[0.5,1.5]$ with $e^{x}-2 = \\cos(e^{x}-2$).\n",
    "\n",
    "\n",
    "2. Find an approximation to within $10^{-5}$ to the first positive value of $x$ with $x= \\tan{x}$.\n",
    "\n",
    "**To evalute cells, type shift + enter.**"
   ]
  },
  {
   "cell_type": "code",
   "execution_count": 12,
   "id": "163fb8c4-d79e-478b-98c6-adf781bffe5e",
   "metadata": {},
   "outputs": [],
   "source": [
    "import numpy as np\n",
    "import math\n",
    "from matplotlib import pyplot as plt\n",
    "from ipywidgets import interactive, fixed"
   ]
  },
  {
   "cell_type": "code",
   "execution_count": 20,
   "id": "779913c8-f28e-4282-8c00-a9e6acc1b2b8",
   "metadata": {},
   "outputs": [],
   "source": [
    "# Bisection Method\n",
    "# Computes approximate solution of f(x) = 0\n",
    "# Input: a,b such that f(a)*f(b)<0 and tolerance tol\n",
    "# Output: Approximate solution xc\n",
    "def bisect(a,b,tol):\n",
    "        \n",
    "    fa = f(a)\n",
    "    fb = f(b)\n",
    "    \n",
    "    # Check sign change on [a,b].\n",
    "    product = \n",
    "    if product >= 0:\n",
    "        print(\"f(a)f(b)<0 not satisfied: f(a)*f(b) = \",product,\">= 0\")\n",
    "        return \n",
    "\n",
    "    count = 0\n",
    "    while (b-a)/2 > tol:\n",
    "\n",
    "        count = count + 1\n",
    "        # new midpoint\n",
    "        c  = (a+b)/2  \n",
    "        fc = f(c)\n",
    "        print(\"n = \",count,\":\",\"c = \",c)\n",
    "\n",
    "        # establish new interval containing root\n",
    "        if fc == 0:   \n",
    "            return c\n",
    "        if fa*fc < 0:\n",
    "            # b  = \n",
    "            # fb =\n",
    "        else:\n",
    "            # a  = \n",
    "            # fa = \n",
    "    \n",
    "    c = (a+b)/2\n",
    "    print(\"n = \",count+1,\":\",\"c = \",c)\n",
    "\n",
    "    return #c"
   ]
  },
  {
   "cell_type": "markdown",
   "id": "92196047-ce28-47db-ac3b-6ad1ab81c366",
   "metadata": {},
   "source": [
    "1. $$e^{x}-2 - \\cos(e^{x}-2) = 0\\quad \\text{on}\\quad [0.5,1.5]\\quad \\text{within tolerance of}\\quad 10^{-5}$$"
   ]
  },
  {
   "cell_type": "markdown",
   "id": "b0841945-7cbc-4ad0-9256-651fad5daddd",
   "metadata": {},
   "source": [
    "2. $$x= \\tan{x}\\quad \\text{on}\\quad [a,b]\\quad \\text{within tolerance of}\\quad 10^{-5}$$"
   ]
  },
  {
   "cell_type": "code",
   "execution_count": null,
   "id": "bfa27adf-5aa2-401d-a256-f7b55ffde520",
   "metadata": {},
   "outputs": [],
   "source": []
  }
 ],
 "metadata": {
  "kernelspec": {
   "display_name": "Python 3 (ipykernel)",
   "language": "python",
   "name": "python3"
  },
  "language_info": {
   "codemirror_mode": {
    "name": "ipython",
    "version": 3
   },
   "file_extension": ".py",
   "mimetype": "text/x-python",
   "name": "python",
   "nbconvert_exporter": "python",
   "pygments_lexer": "ipython3",
   "version": "3.13.3"
  }
 },
 "nbformat": 4,
 "nbformat_minor": 5
}

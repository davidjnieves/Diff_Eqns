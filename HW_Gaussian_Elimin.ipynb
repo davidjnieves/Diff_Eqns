{
 "cells": [
  {
   "cell_type": "markdown",
   "metadata": {
    "editable": true,
    "slideshow": {
     "slide_type": ""
    },
    "tags": []
   },
   "source": [
    "## Gaussian Elimination"
   ]
  },
  {
   "cell_type": "markdown",
   "metadata": {},
   "source": [
    "In this section we develop Python code to solve linear systems in the most direct way, via **Gaussian Elimination** (or just **elimination**). \n",
    "\n",
    "**The main concept of elimination:**\n",
    "\n",
    "* transform the given system to an equivalent system (with same solution) that but that is *easier* to solve.\n",
    "\n",
    "The transformation comes in the form of a sequence of **row operations** that preserve the solution of the system while making the solution readily available. There are three row operations that are helpful:\n",
    "\n",
    "1. Exchange the position of two rows/equations.\n",
    "    * Notation: $R_i \\xleftrightarrow{} R_j$\n",
    "4. Multiply a row/equation by any nonzero number:\n",
    "    * Notation: $R_i \\to k R_i$\n",
    "6. Replace any row/equation with the sum of itself and a multiple of another row/equation.\n",
    "   * Notation: $R_i \\to R_i + k R_j$\n",
    "\n"
   ]
  },
  {
   "cell_type": "markdown",
   "metadata": {},
   "source": [
    "<a id='GE1'></a>\n",
    "### Example:  Row operations and elimination\n",
    "\n",
    "Let's look at an example.\n",
    "\n",
    "$$\n",
    "\\begin{eqnarray*}\n",
    "x + 2 y - z & = & 3\\\\\n",
    "2x + y - 2z & = & 3\\\\\n",
    "-3x + y + z & = & -6 \n",
    "\\end{eqnarray*}\n",
    "$$\n",
    "\n",
    "Written in augmented form: \n",
    "\n",
    "$$\n",
    "\\begin{equation}\n",
    "\\left[ \\begin{array}{rrr|r} \n",
    "1 & 2 & -1 & 3 \\\\ \n",
    "2 & 1 & -2 & 3 \\\\ \n",
    "-3 & 1 & 1 & -6 \n",
    "\\end{array}\\right]\n",
    "\\end{equation}\n",
    "$$\n",
    "\n",
    "Row operations to transform to an equivalent (upper triangular matrix) are\n",
    "\n",
    "1. $R_2 \\to R_2 - 2 R_1$\n",
    "2. $R_3 \\to R_3 + 3 R_1$\n",
    "3. $R_3 \\to R_3 + \\dfrac{7}{3} R_2$\n",
    "\n",
    "and results in the follwoing equivalent system\n",
    "\n",
    "$$\n",
    "\\begin{equation}\n",
    "\\left[ \\begin{array}{rrr|r} \n",
    "1 & 2 & -1 & 3 \\\\ \n",
    "0 & -3 & 0 & -3 \\\\ \n",
    "0 & 0 & -2 & -4 \n",
    "\\end{array}\\right]\n",
    "\\end{equation}\n",
    "$$\n",
    "\n",
    "At this point, back-substitution can be used to arrive at the solution. Rather than do this now, let's build a python routine to execute the elimination process, illustrated above, to a more general $n\\times n$ system.  \n",
    "\n",
    "We'll assign the array the name $A$, so that we can refer to it later. "
   ]
  },
  {
   "cell_type": "code",
   "execution_count": 1,
   "metadata": {
    "jupyter": {
     "source_hidden": true
    }
   },
   "outputs": [
    {
     "name": "stdout",
     "output_type": "stream",
     "text": [
      "[[ 1  2 -1  3]\n",
      " [ 2  1 -2  3]\n",
      " [-3  1  1 -6]]\n"
     ]
    }
   ],
   "source": [
    "import sys\n",
    "import numpy as np\n",
    "# Define the augmented matrix in the above example.\n",
    "# We'll use this as a test case for working with nxn systems.\n",
    "A = np.array([[1,2,-1,3],[2,1,-2,3],[-3,1,1,-6]])\n",
    "print(A)"
   ]
  },
  {
   "cell_type": "markdown",
   "metadata": {},
   "source": [
    "We could start performing operations on our array, but instead we will first write a few bits of code that will do each of these operations in a systematic manner.\n"
   ]
  },
  {
   "cell_type": "markdown",
   "metadata": {},
   "source": [
    "The goal of elimination is to perform row operations to produce a an equivalent upper-triangular matrix:\n",
    "\n",
    "$$\n",
    "\\begin{equation}\n",
    "\\left[ \\begin{array}{cccc} 1 & * & * & * \\\\ 0 & 1 & * & * \\\\ 0 & 0 & 1 & * \\end{array}\\right]\n",
    "\\end{equation}\n",
    "$$\n",
    "\n",
    "where the asterisk denote some entry (may or may not be zero). Let's now generalize this to an $n\\times n$ system:  "
   ]
  },
  {
   "cell_type": "code",
   "execution_count": 3,
   "metadata": {},
   "outputs": [],
   "source": [
    "def elimin(A,b):\n",
    "# =============================================================================\n",
    "#     A is an nxn matrix .  \n",
    "#     b is the right-hand-side of Ax = b.\n",
    "#     indicies counting from 1. Note python uses zero-based indexing\n",
    "# =============================================================================\n",
    "    m = A.shape[0]  # m is number of rows in A\n",
    "    n = A.shape[1]  # n is number of columns in A\n",
    "    \n",
    "    if m != n:\n",
    "        # PRINT AN ERROR MESSAGE\n",
    "        return\n",
    "\n",
    "    x = np.zeros(n)\n",
    "    \n",
    "    B = np.copy(A).astype('float64')\n",
    "    r = np.copy(b).astype('float64')\n",
    "    eps = sys.float_info.epsilon\n",
    "\n",
    "    # visit each column, up to j = n-1\n",
    "    for j in range(1,n):\n",
    "        if # CONDITION TO IDENTIFY ZERO PIVOT\n",
    "            print(\"Zero pivot encountered.\")\n",
    "            return\n",
    "        # visit each row, from i = j+1 to n    \n",
    "        for i in range(j+1,n+1):\n",
    "            scale = # STORE ROW MULTIPLYER\n",
    "            # visit each column in row i, from k = j+1 to n\n",
    "            for k in range(j+1,n+1):\n",
    "                B[i-1][k-1]  = # AN APPROPRIATE ROW OPERATION\n",
    "            # visit right-hand-side:\n",
    "            r[i-1] = # AN APPROPRIATE ROW OPERATION\n",
    "\n",
    "    # Solve using back-substitution\n",
    "    # Visit each row\n",
    "    for i in range(n,0,-1):\n",
    "        # visit each column after diagonal entry\n",
    "        for j in range(i+1,n+1):\n",
    "            r[i-1] = # ISOLATE UNKNOWN VARIABLE\n",
    "        x[i-1] = # SOLVE UNKNOWN VARIABLE\n",
    "\n",
    "    return B, x"
   ]
  },
  {
   "cell_type": "code",
   "execution_count": 4,
   "metadata": {},
   "outputs": [
    {
     "data": {
      "text/plain": [
       "(array([[ 1.,  2., -1.],\n",
       "        [ 2., -3.,  0.],\n",
       "        [-3.,  7., -2.]]),\n",
       " array([3., 1., 2.]))"
      ]
     },
     "execution_count": 4,
     "metadata": {},
     "output_type": "execute_result"
    }
   ],
   "source": [
    "elimin(A[0:3,0:3],A[0:3,3])"
   ]
  },
  {
   "cell_type": "code",
   "execution_count": null,
   "metadata": {},
   "outputs": [],
   "source": []
  }
 ],
 "metadata": {
  "kernelspec": {
   "display_name": "Python 3 (ipykernel)",
   "language": "python",
   "name": "python3"
  },
  "language_info": {
   "codemirror_mode": {
    "name": "ipython",
    "version": 3
   },
   "file_extension": ".py",
   "mimetype": "text/x-python",
   "name": "python",
   "nbconvert_exporter": "python",
   "pygments_lexer": "ipython3",
   "version": "3.13.3"
  }
 },
 "nbformat": 4,
 "nbformat_minor": 4
}

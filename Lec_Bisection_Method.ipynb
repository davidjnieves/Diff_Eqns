{
 "cells": [
  {
   "cell_type": "markdown",
   "id": "5a35da4d-4e0b-48d2-9441-85380f3c30d0",
   "metadata": {},
   "source": [
    "# The Bisection Method \n",
    "Python code below performs the bisection method.\n",
    "\n",
    "1. Find an approximation to within $10^{-5}$ to a value in $[0.5,1.5]$ with $e^{x}-2 = \\cos(e^{x}-2$).\n",
    "2. Show that $f(x) = x^3 + 4x^2 -10$ has a root in $[1,2]$ and use the bisection method to determine an approximation accurate to within $10^{-4}$. \n",
    "\n",
    "The cells below contain python code that implements the Bisection Method. Modify this code to solve the above problems. \n",
    "\n",
    "To evalute cells, type shift + enter."
   ]
  },
  {
   "cell_type": "code",
   "execution_count": 2,
   "id": "163fb8c4-d79e-478b-98c6-adf781bffe5e",
   "metadata": {},
   "outputs": [],
   "source": [
    "import numpy as np\n",
    "from matplotlib import pyplot as plt\n",
    "from ipywidgets import interactive, fixed"
   ]
  },
  {
   "cell_type": "code",
   "execution_count": 32,
   "id": "779913c8-f28e-4282-8c00-a9e6acc1b2b8",
   "metadata": {},
   "outputs": [],
   "source": [
    "# Bisection Method\n",
    "# Computes approximate solution of f(x)=0\n",
    "# Input: a,b such that f(a)*f(b)<0 and tolerance tol\n",
    "# Output: Approximate solution xc\n",
    "def bisect(a,b,tol):\n",
    "    # Function for which root is needed.\n",
    "    def f(x):\n",
    "        fvalue = x**3 + 4*x**2 - 10\n",
    "        return fvalue\n",
    "        \n",
    "    fa = f(a)\n",
    "    fb = f(b)\n",
    "    \n",
    "    # Check sign change on [a,b].\n",
    "    product = fa*fb\n",
    "    if product >= 0:\n",
    "        print(\"f(a)f(b)<0 not satisfied: f(a)*f(b) = \",product,\">= 0\")\n",
    "        return \n",
    "\n",
    "    count = 0\n",
    "    while (b-a)/2 > tol:\n",
    "\n",
    "        count = count + 1\n",
    "        # new midpoint\n",
    "        c  = (a+b)/2  \n",
    "        fc = f(c)\n",
    "        print(\"n = \",count,\":\",\"c = \",c)\n",
    "\n",
    "        # establish new interval containing root\n",
    "        if fc == 0:   \n",
    "            return c\n",
    "        if fa*fc < 0:\n",
    "            b  = c\n",
    "            fb = fc\n",
    "        else:\n",
    "            a  = c\n",
    "            fa = fc\n",
    "    \n",
    "    c = (a+b)/2\n",
    "\n",
    "    return c"
   ]
  },
  {
   "cell_type": "code",
   "execution_count": 33,
   "id": "d7b51d43-104c-4a48-b878-465866ed9a66",
   "metadata": {},
   "outputs": [
    {
     "name": "stdout",
     "output_type": "stream",
     "text": [
      "n =  1 : c =  1.5\n",
      "n =  2 : c =  1.25\n",
      "n =  3 : c =  1.375\n",
      "n =  4 : c =  1.3125\n",
      "n =  5 : c =  1.34375\n",
      "n =  6 : c =  1.359375\n",
      "n =  7 : c =  1.3671875\n",
      "n =  8 : c =  1.36328125\n",
      "n =  9 : c =  1.365234375\n",
      "n =  10 : c =  1.3642578125\n",
      "n =  11 : c =  1.36474609375\n",
      "n =  12 : c =  1.364990234375\n",
      "n =  13 : c =  1.3651123046875\n"
     ]
    },
    {
     "data": {
      "text/plain": [
       "1.36517333984375"
      ]
     },
     "execution_count": 33,
     "metadata": {},
     "output_type": "execute_result"
    }
   ],
   "source": [
    "bisect(1,2,10**(-4))"
   ]
  },
  {
   "cell_type": "code",
   "execution_count": null,
   "id": "bfa27adf-5aa2-401d-a256-f7b55ffde520",
   "metadata": {},
   "outputs": [],
   "source": []
  }
 ],
 "metadata": {
  "kernelspec": {
   "display_name": "Python 3 (ipykernel)",
   "language": "python",
   "name": "python3"
  },
  "language_info": {
   "codemirror_mode": {
    "name": "ipython",
    "version": 3
   },
   "file_extension": ".py",
   "mimetype": "text/x-python",
   "name": "python",
   "nbconvert_exporter": "python",
   "pygments_lexer": "ipython3",
   "version": "3.13.3"
  }
 },
 "nbformat": 4,
 "nbformat_minor": 5
}
